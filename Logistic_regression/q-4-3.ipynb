{
 "cells": [
  {
   "cell_type": "code",
   "execution_count": 22,
   "metadata": {},
   "outputs": [],
   "source": [
    "import numpy as np\n",
    "import pandas as pd\n",
    "from sklearn.model_selection import train_test_split \n",
    "from sklearn.linear_model import LogisticRegression\n",
    "from sklearn.metrics import r2_score,confusion_matrix,classification_report,accuracy_score,precision_score,recall_score\n",
    "import matplotlib\n",
    "from pylab import *\n",
    "import matplotlib.pyplot as plt"
   ]
  },
  {
   "cell_type": "code",
   "execution_count": 23,
   "metadata": {},
   "outputs": [],
   "source": [
    "df=pd.read_csv(\"AdmissionDataset/data.csv\")\n",
    "threshold = 0.5\n",
    "learning_rate = 0.01\n",
    "iterations = 1000"
   ]
  },
  {
   "cell_type": "code",
   "execution_count": 24,
   "metadata": {},
   "outputs": [],
   "source": [
    "def sigmoid(z):\n",
    "    return 1 / (1 + np.exp(-z))"
   ]
  },
  {
   "cell_type": "code",
   "execution_count": 25,
   "metadata": {},
   "outputs": [],
   "source": [
    "def gradient_decent(X_train,Y_train,theta,learning_rate,iterations):\n",
    "    cost = np.zeros(iterations)\n",
    "    for i in range(iterations):\n",
    "        h = sigmoid(np.dot(X_train,theta.T))\n",
    "        theta = theta - (learning_rate/len(X_train)) * np.dot(X_train.T, (h - Y_train))\n",
    "    \n",
    "    return theta"
   ]
  },
  {
   "cell_type": "code",
   "execution_count": 26,
   "metadata": {},
   "outputs": [],
   "source": [
    "# g = gradient_decent(X_train,Y_train,theta,learning_rate,iterations)\n",
    "# g = g[0]"
   ]
  },
  {
   "cell_type": "code",
   "execution_count": 27,
   "metadata": {},
   "outputs": [
    {
     "name": "stdout",
     "output_type": "stream",
     "text": [
      "-----\n",
      "0.9666666666666667\n",
      "1.0\n",
      "-----\n",
      "0.9111111111111111\n",
      "1.0\n",
      "-----\n",
      "0.9012345679012346\n",
      "0.9605263157894737\n",
      "-----\n",
      "0.8615384615384616\n",
      "0.7887323943661971\n",
      "-----\n",
      "0.9555555555555556\n",
      "0.7166666666666667\n",
      "-----\n",
      "0.9743589743589743\n",
      "0.76\n",
      "-----\n",
      "0.9666666666666667\n",
      "0.7435897435897436\n",
      "-----\n",
      "1.0\n",
      "0.5483870967741935\n",
      "-----\n",
      "1.0\n",
      "0.4666666666666667\n",
      "-----\n",
      "0.0\n",
      "0.0\n",
      "-----\n",
      "0.0\n",
      "0.0\n"
     ]
    }
   ],
   "source": [
    "threshold = 0.45\n",
    "precesion = []\n",
    "recall = []\n",
    "while threshold <= 1:\n",
    "    \n",
    "    X = df.drop(['Chance of Admit ','Serial No.'],axis=1)\n",
    "    Y = df['Chance of Admit ']\n",
    "    Y = list(Y)\n",
    "\n",
    "    for i in range(len(Y)):\n",
    "        if float(Y[i])>threshold:\n",
    "            Y[i]=1\n",
    "        else:\n",
    "            Y[i]=0\n",
    "\n",
    "\n",
    "    Y = pd.DataFrame({'Chance of Admit ':Y})\n",
    "    Y = Y['Chance of Admit ']\n",
    "    X_train, X_test, Y_train, Y_test = train_test_split(X,Y,test_size = 0.2)\n",
    "\n",
    "    X_train = (X_train - X_train.mean())/X_train.std()\n",
    "    X_test = (X_test - X_test.mean())/X_test.std()\n",
    "\n",
    "\n",
    "    X_train = pd.concat([X_train,Y_train],axis=1)\n",
    "    ones = np.ones([X_train.shape[0],1])\n",
    "    Y_train = X_train.iloc[:,7:8].values\n",
    "    X_train = X_train.iloc[:,0:7]\n",
    "    X_train = np.concatenate((ones,X_train),axis=1)\n",
    "\n",
    "    # theta = np.zeros(8) # 7 is the number of features\n",
    "    theta = np.zeros([1,8])\n",
    "    # theta.shape\n",
    "\n",
    "    def sigmoid(z):\n",
    "        return 1 / (1 + np.exp(-z))\n",
    "\n",
    "    def gradient_decent(X_train,Y_train,theta,learning_rate,iterations):\n",
    "\n",
    "        for i in range(iterations):\n",
    "            h = sigmoid(np.dot(X_train,theta.T))\n",
    "            theta = theta - (learning_rate/len(X_train)) * np.sum(X_train * (h - Y_train), axis=0)\n",
    "\n",
    "        return theta\n",
    "\n",
    "    g = gradient_decent(X_train,Y_train,theta,learning_rate,iterations)\n",
    "    g = g[0]\n",
    "\n",
    "\n",
    "    y_pred = []\n",
    "    for index,rows in X_test.iterrows():\n",
    "        y = 0\n",
    "        rows = list(rows)\n",
    "        for i in range(len(rows)):\n",
    "            y = y + rows[i]*g[i+1]\n",
    "        y = y + g[0]\n",
    "    #     print(y)\n",
    "        y = sigmoid(y)\n",
    "        if y > threshold:\n",
    "            y_pred.append(1)\n",
    "        else:\n",
    "            y_pred.append(0)\n",
    "    threshold = threshold + 0.05\n",
    "    score = precision_score(Y_test,y_pred)\n",
    "    print(\"-----\")\n",
    "    print(score)\n",
    "    precesion.append(score)\n",
    "    score = recall_score(Y_test,y_pred)\n",
    "    recall.append(score)\n",
    "    print(score)"
   ]
  },
  {
   "cell_type": "code",
   "execution_count": 28,
   "metadata": {
    "scrolled": true
   },
   "outputs": [
    {
     "data": {
      "text/plain": [
       "Text(0.5, 1.0, 'Threshold-Value vs Precision vs Recall')"
      ]
     },
     "execution_count": 28,
     "metadata": {},
     "output_type": "execute_result"
    },
    {
     "data": {
      "image/png": "[encoded data removed]",
      "text/plain": [
       "<Figure size 432x288 with 1 Axes>"
      ]
     },
     "metadata": {
      "needs_background": "light"
     },
     "output_type": "display_data"
    }
   ],
   "source": [
    "fig, ax = plt.subplots()\n",
    "x_axis = []\n",
    "thres = 0.45\n",
    "while thres <= 1:\n",
    "    x_axis.append(thres)\n",
    "    thres = thres + 0.05\n",
    "ax.plot(x_axis, precesion,label=\"Precision\",marker='o')\n",
    "ax.plot(x_axis, recall,label=\"Recall\",marker='o')\n",
    "ax.legend(loc=0)\n",
    "ax.set_xlabel(\"Threshold-Value\", fontsize=18)\n",
    "ax.set_ylabel(\"Precision and Recall\", fontsize=18)\n",
    "ax.set_title('Threshold-Value vs Precision vs Recall')"
   ]
  }
 ],
 "metadata": {
  "kernelspec": {
   "display_name": "Python 3",
   "language": "python",
   "name": "python3"
  },
  "language_info": {
   "codemirror_mode": {
    "name": "ipython",
    "version": 3
   },
   "file_extension": ".py",
   "mimetype": "text/x-python",
   "name": "python",
   "nbconvert_exporter": "python",
   "pygments_lexer": "ipython3",
   "version": "3.6.7"
  }
 },
 "nbformat": 4,
 "nbformat_minor": 2
}
