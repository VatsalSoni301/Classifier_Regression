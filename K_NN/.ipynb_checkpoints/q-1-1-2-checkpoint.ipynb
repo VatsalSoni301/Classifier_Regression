{
 "cells": [
  {
   "cell_type": "code",
   "execution_count": 1,
   "metadata": {},
   "outputs": [],
   "source": [
    "import numpy as np\n",
    "import pandas as pd\n",
    "from sklearn.model_selection import train_test_split \n",
    "from sklearn.metrics import classification_report,confusion_matrix,accuracy_score\n",
    "from sklearn.neighbors import KNeighborsClassifier\n",
    "import copy"
   ]
  },
  {
   "cell_type": "code",
   "execution_count": 2,
   "metadata": {},
   "outputs": [],
   "source": [
    "df=pd.read_csv(\"Iris/Iris.csv\")\n",
    "k = 5"
   ]
  },
  {
   "cell_type": "code",
   "execution_count": 3,
   "metadata": {},
   "outputs": [],
   "source": [
    "X = df.drop(['E'],axis=1)\n",
    "Y = df['E']\n",
    "X_train, X_test, Y_train, Y_test = train_test_split(X,Y,test_size = 0.2)"
   ]
  },
  {
   "cell_type": "code",
   "execution_count": 4,
   "metadata": {},
   "outputs": [],
   "source": [
    "def euclidean_distance(x, y):   \n",
    "    ans = np.sqrt(np.sum((x - y) ** 2))\n",
    "    return ans"
   ]
  },
  {
   "cell_type": "code",
   "execution_count": 5,
   "metadata": {},
   "outputs": [],
   "source": [
    "Y_train = list(Y_train)\n",
    "pred = []\n",
    "for index,row in X_test.iterrows():\n",
    "    dist= []\n",
    "    for index1,row1 in X_train.iterrows():\n",
    "        dist.append(euclidean_distance(row,row1))\n",
    "        \n",
    "    our = pd.DataFrame(\n",
    "    {'a': dist,\n",
    "     'b': Y_train\n",
    "    })\n",
    "    our = our.sort_values(by=['a'])\n",
    "    sentosa = 0\n",
    "    virginica = 0\n",
    "    versicolor = 0\n",
    "    i = 0\n",
    "    for index,row in our.iterrows():\n",
    "        if i >= k:\n",
    "            break\n",
    "        if row['b'] == \"Iris-setosa\":\n",
    "            sentosa = sentosa + 1 \n",
    "        elif row['b'] == \"Iris-virginica\":\n",
    "            virginica = virginica + 1 \n",
    "        elif row['b'] == \"Iris-versicolor\":\n",
    "            versicolor = versicolor + 1 \n",
    "        i = i + 1\n",
    "    if sentosa >= virginica and sentosa >= versicolor:\n",
    "        pred.append(\"Iris-setosa\")\n",
    "    elif virginica >= sentosa and virginica >= versicolor:\n",
    "        pred.append(\"Iris-virginica\")\n",
    "    elif versicolor >= sentosa and versicolor >= virginica:\n",
    "        pred.append(\"Iris-versicolor\")\n"
   ]
  },
  {
   "cell_type": "code",
   "execution_count": 6,
   "metadata": {},
   "outputs": [
    {
     "name": "stdout",
     "output_type": "stream",
     "text": [
      "[[ 7  0  0]\n",
      " [ 0  9  1]\n",
      " [ 0  0 10]]\n",
      "                 precision    recall  f1-score   support\n",
      "\n",
      "    Iris-setosa       1.00      1.00      1.00         7\n",
      "Iris-versicolor       1.00      0.90      0.95        10\n",
      " Iris-virginica       0.91      1.00      0.95        10\n",
      "\n",
      "      micro avg       0.96      0.96      0.96        27\n",
      "      macro avg       0.97      0.97      0.97        27\n",
      "   weighted avg       0.97      0.96      0.96        27\n",
      "\n",
      "96.29629629629629\n"
     ]
    }
   ],
   "source": [
    "print confusion_matrix(Y_test,pred)\n",
    "print classification_report(Y_test,pred)\n",
    "print accuracy_score(Y_test, pred)*100"
   ]
  },
  {
   "cell_type": "code",
   "execution_count": 7,
   "metadata": {},
   "outputs": [
    {
     "name": "stdout",
     "output_type": "stream",
     "text": [
      "[[ 7  0  0]\n",
      " [ 0  9  1]\n",
      " [ 0  0 10]]\n",
      "                 precision    recall  f1-score   support\n",
      "\n",
      "    Iris-setosa       1.00      1.00      1.00         7\n",
      "Iris-versicolor       1.00      0.90      0.95        10\n",
      " Iris-virginica       0.91      1.00      0.95        10\n",
      "\n",
      "      micro avg       0.96      0.96      0.96        27\n",
      "      macro avg       0.97      0.97      0.97        27\n",
      "   weighted avg       0.97      0.96      0.96        27\n",
      "\n",
      "96.29629629629629\n"
     ]
    }
   ],
   "source": [
    "neigh = KNeighborsClassifier()\n",
    "neigh.fit(X_train, Y_train) \n",
    "y_pred = neigh.predict(X_test)\n",
    "print confusion_matrix(Y_test,y_pred)\n",
    "print classification_report(Y_test,y_pred)\n",
    "print accuracy_score(Y_test, y_pred)*100"
   ]
  }
 ],
 "metadata": {
  "kernelspec": {
   "display_name": "Python 2",
   "language": "python",
   "name": "python2"
  },
  "language_info": {
   "codemirror_mode": {
    "name": "ipython",
    "version": 2
   },
   "file_extension": ".py",
   "mimetype": "text/x-python",
   "name": "python",
   "nbconvert_exporter": "python",
   "pygments_lexer": "ipython2",
   "version": "2.7.15rc1"
  }
 },
 "nbformat": 4,
 "nbformat_minor": 2
}
