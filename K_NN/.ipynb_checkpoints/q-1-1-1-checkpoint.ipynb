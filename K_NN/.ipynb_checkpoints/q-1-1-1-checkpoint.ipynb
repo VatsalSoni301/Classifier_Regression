{
 "cells": [
  {
   "cell_type": "code",
   "execution_count": 8,
   "metadata": {},
   "outputs": [],
   "source": [
    "import numpy as np\n",
    "import pandas as pd\n",
    "from sklearn.model_selection import train_test_split \n",
    "from sklearn.metrics import classification_report,confusion_matrix,accuracy_score\n",
    "from sklearn.neighbors import KNeighborsClassifier\n",
    "import copy"
   ]
  },
  {
   "cell_type": "code",
   "execution_count": 9,
   "metadata": {},
   "outputs": [],
   "source": [
    "def robot1():\n",
    "    df=pd.read_table(\"RobotDataset/Robot1\",delim_whitespace=True,names=('class','a1','a2','a3','a4','a5','a6','Id'))\n",
    "    k = 5\n",
    "\n",
    "    X = df.drop(['class','Id'],axis=1)\n",
    "    Y = df['class']\n",
    "    X_train, X_test, Y_train, Y_test = train_test_split(X,Y,test_size = 0.2)\n",
    "\n",
    "    def cosine_similarity(x, y):\n",
    "        return np.dot(x, y) / (np.sqrt(np.dot(x, x)) * np.sqrt(np.dot(y, y)))\n",
    "\n",
    "    Y_train = list(Y_train)\n",
    "    pred = []\n",
    "    for index,row in X_test.iterrows():\n",
    "        dist= []\n",
    "        for index1,row1 in X_train.iterrows():\n",
    "            dist.append(1-cosine_similarity(row,row1))\n",
    "\n",
    "        our = pd.DataFrame(\n",
    "        {'a': dist,\n",
    "         'b': Y_train\n",
    "        })\n",
    "        our = our.sort_values(by=['a'])\n",
    "        counts_zero = 0\n",
    "        counts_one = 0\n",
    "        i = 0\n",
    "        for index,row in our.iterrows():\n",
    "            if i >= k:\n",
    "                break\n",
    "            if int(row['b']) == 0:\n",
    "                counts_zero = counts_zero + 1 \n",
    "            elif int(row['b']) == 1:\n",
    "                counts_one = counts_one + 1 \n",
    "            i = i + 1\n",
    "        if counts_zero > counts_one:\n",
    "            pred.append(0)\n",
    "        else:\n",
    "            pred.append(1)\n",
    "\n",
    "\n",
    "    print(confusion_matrix(Y_test,pred))\n",
    "    print(classification_report(Y_test,pred))\n",
    "    print(accuracy_score(Y_test, pred)*100)\n",
    "\n",
    "    neigh = KNeighborsClassifier()\n",
    "    neigh.fit(X_train, Y_train) \n",
    "    y_pred = neigh.predict(X_test)\n",
    "    print(confusion_matrix(Y_test,y_pred))\n",
    "    print(classification_report(Y_test,y_pred))\n",
    "    print(accuracy_score(Y_test, y_pred)*100)"
   ]
  },
  {
   "cell_type": "code",
   "execution_count": 10,
   "metadata": {},
   "outputs": [],
   "source": [
    "def robot2():\n",
    "    df=pd.read_table(\"RobotDataset/Robot2\",delim_whitespace=True)\n",
    "    k = 5\n",
    "\n",
    "    X = df.drop(['A','H'],axis=1)\n",
    "    Y = df['A']\n",
    "    X_train, X_test, Y_train, Y_test = train_test_split(X,Y,test_size = 0.2)\n",
    "\n",
    "    def cosine_similarity(x, y):\n",
    "        return np.dot(x, y) / (np.sqrt(np.dot(x, x)) * np.sqrt(np.dot(y, y)))\n",
    "\n",
    "    Y_train = list(Y_train)\n",
    "    pred = []\n",
    "    for index,row in X_test.iterrows():\n",
    "        dist= []\n",
    "        for index1,row1 in X_train.iterrows():\n",
    "            dist.append(1-cosine_similarity(row,row1))\n",
    "\n",
    "        our = pd.DataFrame(\n",
    "        {'a': dist,\n",
    "         'b': Y_train\n",
    "        })\n",
    "        our = our.sort_values(by=['a'])\n",
    "        counts_zero = 0\n",
    "        counts_one = 0\n",
    "        i = 0\n",
    "        for index,row in our.iterrows():\n",
    "            if i >= k:\n",
    "                break\n",
    "            if int(row['b']) == 0:\n",
    "                counts_zero = counts_zero + 1 \n",
    "            elif int(row['b']) == 1:\n",
    "                counts_one = counts_one + 1 \n",
    "            i = i + 1\n",
    "        if counts_zero > counts_one:\n",
    "            pred.append(0)\n",
    "        else:\n",
    "            pred.append(1)\n",
    "\n",
    "\n",
    "    print(confusion_matrix(Y_test,pred))\n",
    "    print(classification_report(Y_test,pred))\n",
    "    print(accuracy_score(Y_test, pred)*100)\n",
    "\n",
    "    neigh = KNeighborsClassifier()\n",
    "    neigh.fit(X_train, Y_train) \n",
    "    y_pred = neigh.predict(X_test)\n",
    "    print(confusion_matrix(Y_test,y_pred))\n",
    "    print(classification_report(Y_test,y_pred))\n",
    "    print(accuracy_score(Y_test, y_pred)*100)"
   ]
  },
  {
   "cell_type": "code",
   "execution_count": 11,
   "metadata": {},
   "outputs": [
    {
     "name": "stderr",
     "output_type": "stream",
     "text": [
      "/home/vatsal/.local/lib/python3.6/site-packages/ipykernel_launcher.py:2: FutureWarning: read_table is deprecated, use read_csv instead, passing sep='\\t'.\n",
      "  \n"
     ]
    },
    {
     "name": "stdout",
     "output_type": "stream",
     "text": [
      "[[13  0]\n",
      " [ 2 10]]\n",
      "              precision    recall  f1-score   support\n",
      "\n",
      "           0       0.87      1.00      0.93        13\n",
      "           1       1.00      0.83      0.91        12\n",
      "\n",
      "   micro avg       0.92      0.92      0.92        25\n",
      "   macro avg       0.93      0.92      0.92        25\n",
      "weighted avg       0.93      0.92      0.92        25\n",
      "\n",
      "92.0\n",
      "[[13  0]\n",
      " [ 3  9]]\n",
      "              precision    recall  f1-score   support\n",
      "\n",
      "           0       0.81      1.00      0.90        13\n",
      "           1       1.00      0.75      0.86        12\n",
      "\n",
      "   micro avg       0.88      0.88      0.88        25\n",
      "   macro avg       0.91      0.88      0.88        25\n",
      "weighted avg       0.90      0.88      0.88        25\n",
      "\n",
      "88.0\n"
     ]
    }
   ],
   "source": [
    "robot1()"
   ]
  },
  {
   "cell_type": "code",
   "execution_count": 12,
   "metadata": {},
   "outputs": [
    {
     "name": "stderr",
     "output_type": "stream",
     "text": [
      "/home/vatsal/.local/lib/python3.6/site-packages/ipykernel_launcher.py:2: FutureWarning: read_table is deprecated, use read_csv instead, passing sep='\\t'.\n",
      "  \n"
     ]
    },
    {
     "name": "stdout",
     "output_type": "stream",
     "text": [
      "[[11  1]\n",
      " [ 5  8]]\n",
      "              precision    recall  f1-score   support\n",
      "\n",
      "           0       0.69      0.92      0.79        12\n",
      "           1       0.89      0.62      0.73        13\n",
      "\n",
      "   micro avg       0.76      0.76      0.76        25\n",
      "   macro avg       0.79      0.77      0.76        25\n",
      "weighted avg       0.79      0.76      0.76        25\n",
      "\n",
      "76.0\n",
      "[[11  1]\n",
      " [ 4  9]]\n",
      "              precision    recall  f1-score   support\n",
      "\n",
      "           0       0.73      0.92      0.81        12\n",
      "           1       0.90      0.69      0.78        13\n",
      "\n",
      "   micro avg       0.80      0.80      0.80        25\n",
      "   macro avg       0.82      0.80      0.80        25\n",
      "weighted avg       0.82      0.80      0.80        25\n",
      "\n",
      "80.0\n"
     ]
    }
   ],
   "source": [
    "robot2()"
   ]
  }
 ],
 "metadata": {
  "kernelspec": {
   "display_name": "Python 3",
   "language": "python",
   "name": "python3"
  },
  "language_info": {
   "codemirror_mode": {
    "name": "ipython",
    "version": 3
   },
   "file_extension": ".py",
   "mimetype": "text/x-python",
   "name": "python",
   "nbconvert_exporter": "python",
   "pygments_lexer": "ipython3",
   "version": "3.6.7"
  }
 },
 "nbformat": 4,
 "nbformat_minor": 2
}
