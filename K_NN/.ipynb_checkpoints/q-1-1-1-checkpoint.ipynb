{
 "cells": [
  {
   "cell_type": "code",
   "execution_count": 1,
   "metadata": {},
   "outputs": [],
   "source": [
    "import numpy as np\n",
    "import pandas as pd\n",
    "from sklearn.model_selection import train_test_split \n",
    "from sklearn.metrics import classification_report,confusion_matrix,accuracy_score\n",
    "from sklearn.neighbors import KNeighborsClassifier\n",
    "import copy"
   ]
  },
  {
   "cell_type": "code",
   "execution_count": 2,
   "metadata": {},
   "outputs": [],
   "source": [
    "def robot1():\n",
    "    df=pd.read_table(\"RobotDataset/Robot1\",delim_whitespace=True,names=('A','B','C','D','E','F','G','H'))\n",
    "    k = 5\n",
    "\n",
    "    X = df.drop(['A','H'],axis=1)\n",
    "    Y = df['A']\n",
    "    X_train, X_test, Y_train, Y_test = train_test_split(X,Y,test_size = 0.2)\n",
    "\n",
    "    def cosine_similarity(x, y):\n",
    "        return np.dot(x, y) / (np.sqrt(np.dot(x, x)) * np.sqrt(np.dot(y, y)))\n",
    "\n",
    "    Y_train = list(Y_train)\n",
    "    pred = []\n",
    "    for index,row in X_test.iterrows():\n",
    "        dist= []\n",
    "        for index1,row1 in X_train.iterrows():\n",
    "            dist.append(1-cosine_similarity(row,row1))\n",
    "\n",
    "        our = pd.DataFrame(\n",
    "        {'a': dist,\n",
    "         'b': Y_train\n",
    "        })\n",
    "        our = our.sort_values(by=['a'])\n",
    "        counts_zero = 0\n",
    "        counts_one = 0\n",
    "        i = 0\n",
    "        for index,row in our.iterrows():\n",
    "            if i >= k:\n",
    "                break\n",
    "            if int(row['b']) == 0:\n",
    "                counts_zero = counts_zero + 1 \n",
    "            elif int(row['b']) == 1:\n",
    "                counts_one = counts_one + 1 \n",
    "            i = i + 1\n",
    "        if counts_zero > counts_one:\n",
    "            pred.append(0)\n",
    "        else:\n",
    "            pred.append(1)\n",
    "\n",
    "\n",
    "    print confusion_matrix(Y_test,pred)\n",
    "    print classification_report(Y_test,pred)\n",
    "    print accuracy_score(Y_test, pred)*100\n",
    "\n",
    "    neigh = KNeighborsClassifier()\n",
    "    neigh.fit(X_train, Y_train) \n",
    "    y_pred = neigh.predict(X_test)\n",
    "    print confusion_matrix(Y_test,y_pred)\n",
    "    print classification_report(Y_test,y_pred)\n",
    "    print accuracy_score(Y_test, y_pred)*100"
   ]
  },
  {
   "cell_type": "code",
   "execution_count": 3,
   "metadata": {},
   "outputs": [],
   "source": [
    "def robot2():\n",
    "    df=pd.read_table(\"RobotDataset/Robot2\",delim_whitespace=True)\n",
    "    k = 5\n",
    "\n",
    "    X = df.drop(['A','H'],axis=1)\n",
    "    Y = df['A']\n",
    "    X_train, X_test, Y_train, Y_test = train_test_split(X,Y,test_size = 0.2)\n",
    "\n",
    "    def cosine_similarity(x, y):\n",
    "        return np.dot(x, y) / (np.sqrt(np.dot(x, x)) * np.sqrt(np.dot(y, y)))\n",
    "\n",
    "    Y_train = list(Y_train)\n",
    "    pred = []\n",
    "    for index,row in X_test.iterrows():\n",
    "        dist= []\n",
    "        for index1,row1 in X_train.iterrows():\n",
    "            dist.append(1-cosine_similarity(row,row1))\n",
    "\n",
    "        our = pd.DataFrame(\n",
    "        {'a': dist,\n",
    "         'b': Y_train\n",
    "        })\n",
    "        our = our.sort_values(by=['a'])\n",
    "        counts_zero = 0\n",
    "        counts_one = 0\n",
    "        i = 0\n",
    "        for index,row in our.iterrows():\n",
    "            if i >= k:\n",
    "                break\n",
    "            if int(row['b']) == 0:\n",
    "                counts_zero = counts_zero + 1 \n",
    "            elif int(row['b']) == 1:\n",
    "                counts_one = counts_one + 1 \n",
    "            i = i + 1\n",
    "        if counts_zero > counts_one:\n",
    "            pred.append(0)\n",
    "        else:\n",
    "            pred.append(1)\n",
    "\n",
    "\n",
    "    print confusion_matrix(Y_test,pred)\n",
    "    print classification_report(Y_test,pred)\n",
    "    print accuracy_score(Y_test, pred)*100\n",
    "\n",
    "    neigh = KNeighborsClassifier()\n",
    "    neigh.fit(X_train, Y_train) \n",
    "    y_pred = neigh.predict(X_test)\n",
    "    print confusion_matrix(Y_test,y_pred)\n",
    "    print classification_report(Y_test,y_pred)\n",
    "    print accuracy_score(Y_test, y_pred)*100"
   ]
  },
  {
   "cell_type": "code",
   "execution_count": 4,
   "metadata": {},
   "outputs": [
    {
     "name": "stdout",
     "output_type": "stream",
     "text": [
      "[[10  3]\n",
      " [ 2 10]]\n",
      "              precision    recall  f1-score   support\n",
      "\n",
      "           0       0.83      0.77      0.80        13\n",
      "           1       0.77      0.83      0.80        12\n",
      "\n",
      "   micro avg       0.80      0.80      0.80        25\n",
      "   macro avg       0.80      0.80      0.80        25\n",
      "weighted avg       0.80      0.80      0.80        25\n",
      "\n",
      "80.0\n",
      "[[12  1]\n",
      " [ 2 10]]\n",
      "              precision    recall  f1-score   support\n",
      "\n",
      "           0       0.86      0.92      0.89        13\n",
      "           1       0.91      0.83      0.87        12\n",
      "\n",
      "   micro avg       0.88      0.88      0.88        25\n",
      "   macro avg       0.88      0.88      0.88        25\n",
      "weighted avg       0.88      0.88      0.88        25\n",
      "\n",
      "88.0\n"
     ]
    }
   ],
   "source": [
    "robot1()"
   ]
  },
  {
   "cell_type": "code",
   "execution_count": 5,
   "metadata": {
    "scrolled": true
   },
   "outputs": [
    {
     "name": "stdout",
     "output_type": "stream",
     "text": [
      "[[10  4]\n",
      " [ 1 10]]\n",
      "              precision    recall  f1-score   support\n",
      "\n",
      "           0       0.91      0.71      0.80        14\n",
      "           1       0.71      0.91      0.80        11\n",
      "\n",
      "   micro avg       0.80      0.80      0.80        25\n",
      "   macro avg       0.81      0.81      0.80        25\n",
      "weighted avg       0.82      0.80      0.80        25\n",
      "\n",
      "80.0\n",
      "[[12  2]\n",
      " [ 1 10]]\n",
      "              precision    recall  f1-score   support\n",
      "\n",
      "           0       0.92      0.86      0.89        14\n",
      "           1       0.83      0.91      0.87        11\n",
      "\n",
      "   micro avg       0.88      0.88      0.88        25\n",
      "   macro avg       0.88      0.88      0.88        25\n",
      "weighted avg       0.88      0.88      0.88        25\n",
      "\n",
      "88.0\n"
     ]
    }
   ],
   "source": [
    "robot2()"
   ]
  }
 ],
 "metadata": {
  "kernelspec": {
   "display_name": "Python 2",
   "language": "python",
   "name": "python2"
  },
  "language_info": {
   "codemirror_mode": {
    "name": "ipython",
    "version": 2
   },
   "file_extension": ".py",
   "mimetype": "text/x-python",
   "name": "python",
   "nbconvert_exporter": "python",
   "pygments_lexer": "ipython2",
   "version": "2.7.15rc1"
  }
 },
 "nbformat": 4,
 "nbformat_minor": 2
}
