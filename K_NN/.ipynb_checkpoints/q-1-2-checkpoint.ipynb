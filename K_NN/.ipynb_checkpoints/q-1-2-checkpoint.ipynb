{
 "cells": [
  {
   "cell_type": "code",
   "execution_count": 40,
   "metadata": {},
   "outputs": [],
   "source": [
    "import numpy as np\n",
    "import pandas as pd\n",
    "from sklearn.model_selection import train_test_split \n",
    "from sklearn.metrics import classification_report,confusion_matrix,accuracy_score\n",
    "from sklearn.neighbors import KNeighborsClassifier\n",
    "import matplotlib\n",
    "from pylab import *\n",
    "import matplotlib.pyplot as plt\n",
    "import copy"
   ]
  },
  {
   "cell_type": "code",
   "execution_count": 41,
   "metadata": {},
   "outputs": [],
   "source": [
    "df=pd.read_csv(\"Iris/Iris.csv\",names=['sepal length','sepal width','petal length','petal width','class'])"
   ]
  },
  {
   "cell_type": "code",
   "execution_count": 42,
   "metadata": {},
   "outputs": [],
   "source": [
    "X = df.drop(['class'],axis=1)\n",
    "Y = df['class']\n",
    "X_train, X_test, Y_train, Y_test = train_test_split(X,Y,test_size = 0.2)\n",
    "our = pd.DataFrame()"
   ]
  },
  {
   "cell_type": "code",
   "execution_count": 43,
   "metadata": {},
   "outputs": [],
   "source": [
    "def euclidean_distance(x, y):   \n",
    "    return np.sqrt(np.sum((x - y) ** 2))"
   ]
  },
  {
   "cell_type": "code",
   "execution_count": 44,
   "metadata": {},
   "outputs": [],
   "source": [
    "def manhattan_distance(x, y):   \n",
    "    return np.sum(abs(x - y))"
   ]
  },
  {
   "cell_type": "code",
   "execution_count": 45,
   "metadata": {},
   "outputs": [],
   "source": [
    "def cosine_similarity(x, y):\n",
    "    return np.dot(x, y) / (np.sqrt(np.dot(x, x)) * np.sqrt(np.dot(y, y)))"
   ]
  },
  {
   "cell_type": "code",
   "execution_count": 46,
   "metadata": {},
   "outputs": [],
   "source": [
    "def prediction(attr,k):\n",
    "    global our\n",
    "    our = our.sort_values(by=[attr])\n",
    "    sentosa = 0\n",
    "    virginica = 0\n",
    "    versicolor = 0\n",
    "    i = 0\n",
    "    for index,row in our.iterrows():\n",
    "        if i >= k:\n",
    "            break\n",
    "        if row['b'] == \"Iris-setosa\":\n",
    "            sentosa = sentosa + 1 \n",
    "        elif row['b'] == \"Iris-virginica\":\n",
    "            virginica = virginica + 1 \n",
    "        elif row['b'] == \"Iris-versicolor\":\n",
    "            versicolor = versicolor + 1 \n",
    "        i = i + 1\n",
    "    if sentosa >= virginica and sentosa >= versicolor:\n",
    "        return \"Iris-setosa\"\n",
    "    elif virginica >= sentosa and virginica >= versicolor:\n",
    "        return \"Iris-virginica\"\n",
    "    elif versicolor >= sentosa and versicolor >= virginica:\n",
    "        return \"Iris-versicolor\""
   ]
  },
  {
   "cell_type": "code",
   "execution_count": 47,
   "metadata": {},
   "outputs": [
    {
     "name": "stdout",
     "output_type": "stream",
     "text": [
      "Euclid---> 92.5925925925926\n",
      "Cosine---> 96.29629629629629\n",
      "Manhattan---> 92.5925925925926\n",
      "Euclid---> 88.88888888888889\n",
      "Cosine---> 96.29629629629629\n",
      "Manhattan---> 88.88888888888889\n",
      "Euclid---> 92.5925925925926\n",
      "Cosine---> 96.29629629629629\n",
      "Manhattan---> 92.5925925925926\n",
      "Euclid---> 92.5925925925926\n",
      "Cosine---> 92.5925925925926\n",
      "Manhattan---> 92.5925925925926\n",
      "Euclid---> 92.5925925925926\n",
      "Cosine---> 96.29629629629629\n",
      "Manhattan---> 92.5925925925926\n",
      "Euclid---> 88.88888888888889\n",
      "Cosine---> 92.5925925925926\n",
      "Manhattan---> 92.5925925925926\n",
      "Euclid---> 96.29629629629629\n",
      "Cosine---> 92.5925925925926\n",
      "Manhattan---> 96.29629629629629\n",
      "Euclid---> 92.5925925925926\n",
      "Cosine---> 92.5925925925926\n",
      "Manhattan---> 96.29629629629629\n",
      "Euclid---> 100.0\n",
      "Cosine---> 92.5925925925926\n",
      "Manhattan---> 100.0\n",
      "Euclid---> 100.0\n",
      "Cosine---> 88.88888888888889\n",
      "Manhattan---> 96.29629629629629\n"
     ]
    }
   ],
   "source": [
    "Y_train = list(Y_train)\n",
    "euclid = []\n",
    "cosine = []\n",
    "manhattan = []\n",
    "k = 1\n",
    "while k<11:\n",
    "    predcosine = []\n",
    "    predeuclid = []\n",
    "    predmanhattan = []\n",
    "    for index,row in X_test.iterrows():\n",
    "        disteuclid = []\n",
    "        distcosine = []\n",
    "        distmanhattan = []\n",
    "        for index1,row1 in X_train.iterrows():\n",
    "            disteuclid.append(euclidean_distance(row,row1))\n",
    "            distcosine.append(1-cosine_similarity(row,row1))\n",
    "            distmanhattan.append(manhattan_distance(row,row1))\n",
    "\n",
    "        our = pd.DataFrame(\n",
    "        {'a': disteuclid,\n",
    "         'b': Y_train,\n",
    "         'c': distcosine,\n",
    "         'd': distmanhattan\n",
    "        })\n",
    "        predeuclid.append(prediction('a',k))\n",
    "        predcosine.append(prediction('c',k))\n",
    "        predmanhattan.append(prediction('d',k))\n",
    "    print(\"Euclid--->\",accuracy_score(Y_test, predeuclid)*100)\n",
    "    euclid.append(accuracy_score(Y_test, predeuclid)*100)\n",
    "    print(\"Cosine--->\",accuracy_score(Y_test, predcosine)*100)\n",
    "    cosine.append(accuracy_score(Y_test, predcosine)*100)\n",
    "    print(\"Manhattan--->\",accuracy_score(Y_test, predmanhattan)*100)\n",
    "    manhattan.append(accuracy_score(Y_test, predmanhattan)*100)\n",
    "    k = k + 1"
   ]
  },
  {
   "cell_type": "code",
   "execution_count": 48,
   "metadata": {},
   "outputs": [
    {
     "data": {
      "text/plain": [
       "Text(0.5, 1.0, 'K-value vs Accuracy')"
      ]
     },
     "execution_count": 48,
     "metadata": {},
     "output_type": "execute_result"
    },
    {
     "data": {
      "image/png": "[encoded data removed]",
      "text/plain": [
       "<Figure size 432x288 with 1 Axes>"
      ]
     },
     "metadata": {
      "needs_background": "light"
     },
     "output_type": "display_data"
    }
   ],
   "source": [
    "fig, ax = plt.subplots()\n",
    "x_axis = [i for i in range(1,11,1)]\n",
    "ax.plot(x_axis, cosine, label=\"Cosine Accuracy\",marker='o')\n",
    "ax.plot(x_axis, euclid, label=\"Euclid Accuracy\",marker='o')\n",
    "ax.plot(x_axis, manhattan, label=\"Manhattan Accuracy\",marker='o')\n",
    "ax.legend(loc=2)\n",
    "ax.set_xlabel(\"K-value\", fontsize=18)\n",
    "ax.set_ylabel(\"Accuracy\", fontsize=18)\n",
    "ax.set_title('K-value vs Accuracy')"
   ]
  },
  {
   "cell_type": "markdown",
   "metadata": {},
   "source": [
    "## Value of k vs performance of k-nn algorithm\n",
    "* k should be greater than zero.\n",
    "* k <= sqrt(n) where n is the number of training data.\n",
    "* Value of k should be odd.\n",
    "* Value of k should be as large as possible.\n",
    "* Performance increases when value of k increases because it predicts value by looking more examples.\n",
    "* But after some point performance decreases when value of k increases.\n",
    "* Large k = simple model = underfit = low variance & high bias\n",
    "* Small k = complex model = overfit = high variance & low bias"
   ]
  },
  {
   "cell_type": "code",
   "execution_count": 49,
   "metadata": {},
   "outputs": [
    {
     "name": "stderr",
     "output_type": "stream",
     "text": [
      "/home/vatsal/.local/lib/python3.6/site-packages/ipykernel_launcher.py:1: FutureWarning: read_table is deprecated, use read_csv instead, passing sep='\\t'.\n",
      "  \"\"\"Entry point for launching an IPython kernel.\n"
     ]
    }
   ],
   "source": [
    "df=pd.read_table(\"RobotDataset/Robot1\",delim_whitespace=True,names=('class','a1','a2','a3','a4','a5','a6','Id'))\n",
    "k = 5"
   ]
  },
  {
   "cell_type": "code",
   "execution_count": 50,
   "metadata": {},
   "outputs": [],
   "source": [
    "X = df.drop(['class','Id'],axis=1)\n",
    "Y = df['class']\n",
    "X_train, X_test, Y_train, Y_test = train_test_split(X,Y,test_size = 0.2)"
   ]
  },
  {
   "cell_type": "code",
   "execution_count": 51,
   "metadata": {},
   "outputs": [],
   "source": [
    "def prediction_robot1(attr,k,our):\n",
    "    our = our.sort_values(by=[attr])\n",
    "    counts_zero = 0\n",
    "    counts_one = 0\n",
    "    i = 0\n",
    "    for index,row in our.iterrows():\n",
    "        if i >= k:\n",
    "            break\n",
    "        if int(row['b']) == 0:\n",
    "            counts_zero = counts_zero + 1 \n",
    "        elif int(row['b']) == 1:\n",
    "            counts_one = counts_one + 1 \n",
    "        i = i + 1\n",
    "    if counts_zero > counts_one:\n",
    "        return 0\n",
    "    else:\n",
    "        return 1"
   ]
  },
  {
   "cell_type": "code",
   "execution_count": 52,
   "metadata": {
    "scrolled": true
   },
   "outputs": [
    {
     "name": "stdout",
     "output_type": "stream",
     "text": [
      "Euclid---> 48.0\n",
      "Cosine---> 56.00000000000001\n",
      "Manhattan---> 48.0\n",
      "Euclid---> 56.00000000000001\n",
      "Cosine---> 56.00000000000001\n",
      "Manhattan---> 60.0\n",
      "Euclid---> 68.0\n",
      "Cosine---> 56.00000000000001\n",
      "Manhattan---> 72.0\n",
      "Euclid---> 68.0\n",
      "Cosine---> 56.00000000000001\n",
      "Manhattan---> 68.0\n",
      "Euclid---> 64.0\n",
      "Cosine---> 56.00000000000001\n",
      "Manhattan---> 64.0\n",
      "Euclid---> 68.0\n",
      "Cosine---> 60.0\n",
      "Manhattan---> 72.0\n",
      "Euclid---> 68.0\n",
      "Cosine---> 64.0\n",
      "Manhattan---> 72.0\n",
      "Euclid---> 68.0\n",
      "Cosine---> 64.0\n",
      "Manhattan---> 68.0\n",
      "Euclid---> 72.0\n",
      "Cosine---> 64.0\n",
      "Manhattan---> 72.0\n",
      "Euclid---> 68.0\n",
      "Cosine---> 64.0\n",
      "Manhattan---> 60.0\n"
     ]
    }
   ],
   "source": [
    "euclid = []\n",
    "cosine = []\n",
    "manhattan = []\n",
    "k=1\n",
    "Y_train = list(Y_train)\n",
    "while k<11:\n",
    "    predcosine = []\n",
    "    predeuclid = []\n",
    "    predmanhattan = []\n",
    "    for index,row in X_test.iterrows():\n",
    "        disteuclid = []\n",
    "        distcosine = []\n",
    "        distmanhattan = []\n",
    "        for index1,row1 in X_train.iterrows():\n",
    "            disteuclid.append(euclidean_distance(row,row1))\n",
    "            distcosine.append(1-cosine_similarity(row,row1))\n",
    "            distmanhattan.append(manhattan_distance(row,row1))\n",
    "\n",
    "        our = pd.DataFrame(\n",
    "        {'a': disteuclid,\n",
    "         'b': Y_train,\n",
    "         'c': distcosine,\n",
    "         'd': distmanhattan\n",
    "        })\n",
    "        predeuclid.append(prediction_robot1('a',k,our))\n",
    "        predcosine.append(prediction_robot1('c',k,our))\n",
    "        predmanhattan.append(prediction_robot1('d',k,our))\n",
    "    print(\"Euclid--->\",accuracy_score(Y_test, predeuclid)*100)\n",
    "    euclid.append(accuracy_score(Y_test, predeuclid)*100)\n",
    "    print(\"Cosine--->\",accuracy_score(Y_test, predcosine)*100)\n",
    "    cosine.append(accuracy_score(Y_test, predcosine)*100)\n",
    "    print(\"Manhattan--->\",accuracy_score(Y_test, predmanhattan)*100)\n",
    "    manhattan.append(accuracy_score(Y_test, predmanhattan)*100)\n",
    "    k = k + 1\n",
    "    "
   ]
  },
  {
   "cell_type": "code",
   "execution_count": 53,
   "metadata": {},
   "outputs": [
    {
     "data": {
      "text/plain": [
       "Text(0.5, 1.0, 'K-value vs Accuracy')"
      ]
     },
     "execution_count": 53,
     "metadata": {},
     "output_type": "execute_result"
    },
    {
     "data": {
      "image/png": "[encoded data removed]",
      "text/plain": [
       "<Figure size 432x288 with 1 Axes>"
      ]
     },
     "metadata": {
      "needs_background": "light"
     },
     "output_type": "display_data"
    }
   ],
   "source": [
    "fig, ax = plt.subplots()\n",
    "x_axis = [i for i in range(1,11,1)]\n",
    "ax.plot(x_axis, cosine, label=\"Cosine Accuracy\",marker='o')\n",
    "ax.plot(x_axis, euclid, label=\"Euclid Accuracy\",marker='o')\n",
    "ax.plot(x_axis, manhattan, label=\"Manhattan Accuracy\",marker='o')\n",
    "ax.legend(loc=2)\n",
    "ax.set_xlabel(\"K-value\", fontsize=18)\n",
    "ax.set_ylabel(\"Accuracy\", fontsize=18)\n",
    "ax.set_title('K-value vs Accuracy')"
   ]
  }
 ],
 "metadata": {
  "kernelspec": {
   "display_name": "Python 3",
   "language": "python",
   "name": "python3"
  },
  "language_info": {
   "codemirror_mode": {
    "name": "ipython",
    "version": 3
   },
   "file_extension": ".py",
   "mimetype": "text/x-python",
   "name": "python",
   "nbconvert_exporter": "python",
   "pygments_lexer": "ipython3",
   "version": "3.6.7"
  }
 },
 "nbformat": 4,
 "nbformat_minor": 2
}
