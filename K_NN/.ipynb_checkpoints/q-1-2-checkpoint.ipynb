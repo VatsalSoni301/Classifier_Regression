{
 "cells": [
  {
   "cell_type": "code",
   "execution_count": 1,
   "metadata": {},
   "outputs": [],
   "source": [
    "import numpy as np\n",
    "import pandas as pd\n",
    "from sklearn.model_selection import train_test_split \n",
    "from sklearn.metrics import classification_report,confusion_matrix,accuracy_score\n",
    "from sklearn.neighbors import KNeighborsClassifier\n",
    "import matplotlib\n",
    "from pylab import *\n",
    "import matplotlib.pyplot as plt\n",
    "import copy"
   ]
  },
  {
   "cell_type": "code",
   "execution_count": 2,
   "metadata": {},
   "outputs": [],
   "source": [
    "df=pd.read_csv(\"Iris/Iris.csv\",names=['sepal length','sepal width','petal length','petal width','class'])"
   ]
  },
  {
   "cell_type": "code",
   "execution_count": 3,
   "metadata": {},
   "outputs": [],
   "source": [
    "X = df.drop(['class'],axis=1)\n",
    "Y = df['class']\n",
    "X_train, X_test, Y_train, Y_test = train_test_split(X,Y,test_size = 0.2)\n",
    "our = pd.DataFrame()"
   ]
  },
  {
   "cell_type": "code",
   "execution_count": 4,
   "metadata": {},
   "outputs": [],
   "source": [
    "def euclidean_distance(x, y):   \n",
    "    return np.sqrt(np.sum((x - y) ** 2))"
   ]
  },
  {
   "cell_type": "code",
   "execution_count": 5,
   "metadata": {},
   "outputs": [],
   "source": [
    "def manhattan_distance(x, y):   \n",
    "    return np.sum(abs(x - y))"
   ]
  },
  {
   "cell_type": "code",
   "execution_count": 6,
   "metadata": {},
   "outputs": [],
   "source": [
    "def cosine_similarity(x, y):\n",
    "    return np.dot(x, y) / (np.sqrt(np.dot(x, x)) * np.sqrt(np.dot(y, y)))"
   ]
  },
  {
   "cell_type": "code",
   "execution_count": 7,
   "metadata": {},
   "outputs": [],
   "source": [
    "def prediction(attr,k):\n",
    "    global our\n",
    "    our = our.sort_values(by=[attr])\n",
    "    sentosa = 0\n",
    "    virginica = 0\n",
    "    versicolor = 0\n",
    "    i = 0\n",
    "    for index,row in our.iterrows():\n",
    "        if i >= k:\n",
    "            break\n",
    "        if row['b'] == \"Iris-setosa\":\n",
    "            sentosa = sentosa + 1 \n",
    "        elif row['b'] == \"Iris-virginica\":\n",
    "            virginica = virginica + 1 \n",
    "        elif row['b'] == \"Iris-versicolor\":\n",
    "            versicolor = versicolor + 1 \n",
    "        i = i + 1\n",
    "    if sentosa >= virginica and sentosa >= versicolor:\n",
    "        return \"Iris-setosa\"\n",
    "    elif virginica >= sentosa and virginica >= versicolor:\n",
    "        return \"Iris-virginica\"\n",
    "    elif versicolor >= sentosa and versicolor >= virginica:\n",
    "        return \"Iris-versicolor\""
   ]
  },
  {
   "cell_type": "code",
   "execution_count": 8,
   "metadata": {},
   "outputs": [
    {
     "name": "stdout",
     "output_type": "stream",
     "text": [
      "Euclid---> 92.5925925925926\n",
      "Cosine---> 92.5925925925926\n",
      "Manhattan---> 92.5925925925926\n",
      "Euclid---> 96.29629629629629\n",
      "Cosine---> 96.29629629629629\n",
      "Manhattan---> 96.29629629629629\n",
      "Euclid---> 96.29629629629629\n",
      "Cosine---> 96.29629629629629\n",
      "Manhattan---> 92.5925925925926\n",
      "Euclid---> 96.29629629629629\n",
      "Cosine---> 96.29629629629629\n",
      "Manhattan---> 96.29629629629629\n",
      "Euclid---> 96.29629629629629\n",
      "Cosine---> 96.29629629629629\n",
      "Manhattan---> 96.29629629629629\n",
      "Euclid---> 96.29629629629629\n",
      "Cosine---> 96.29629629629629\n",
      "Manhattan---> 96.29629629629629\n",
      "Euclid---> 96.29629629629629\n",
      "Cosine---> 96.29629629629629\n",
      "Manhattan---> 96.29629629629629\n",
      "Euclid---> 96.29629629629629\n",
      "Cosine---> 96.29629629629629\n",
      "Manhattan---> 96.29629629629629\n",
      "Euclid---> 100.0\n",
      "Cosine---> 96.29629629629629\n",
      "Manhattan---> 100.0\n",
      "Euclid---> 100.0\n",
      "Cosine---> 96.29629629629629\n",
      "Manhattan---> 96.29629629629629\n"
     ]
    }
   ],
   "source": [
    "Y_train = list(Y_train)\n",
    "euclid = []\n",
    "cosine = []\n",
    "manhattan = []\n",
    "k = 1\n",
    "while k<11:\n",
    "    predcosine = []\n",
    "    predeuclid = []\n",
    "    predmanhattan = []\n",
    "    for index,row in X_test.iterrows():\n",
    "        disteuclid = []\n",
    "        distcosine = []\n",
    "        distmanhattan = []\n",
    "        for index1,row1 in X_train.iterrows():\n",
    "            disteuclid.append(euclidean_distance(row,row1))\n",
    "            distcosine.append(1-cosine_similarity(row,row1))\n",
    "            distmanhattan.append(manhattan_distance(row,row1))\n",
    "\n",
    "        our = pd.DataFrame(\n",
    "        {'a': disteuclid,\n",
    "         'b': Y_train,\n",
    "         'c': distcosine,\n",
    "         'd': distmanhattan\n",
    "        })\n",
    "        predeuclid.append(prediction('a',k))\n",
    "        predcosine.append(prediction('c',k))\n",
    "        predmanhattan.append(prediction('d',k))\n",
    "    print \"Euclid--->\",accuracy_score(Y_test, predeuclid)*100\n",
    "    euclid.append(accuracy_score(Y_test, predeuclid)*100)\n",
    "    print \"Cosine--->\",accuracy_score(Y_test, predcosine)*100\n",
    "    cosine.append(accuracy_score(Y_test, predcosine)*100)\n",
    "    print \"Manhattan--->\",accuracy_score(Y_test, predmanhattan)*100\n",
    "    manhattan.append(accuracy_score(Y_test, predmanhattan)*100)\n",
    "    k = k + 1"
   ]
  },
  {
   "cell_type": "code",
   "execution_count": 9,
   "metadata": {},
   "outputs": [
    {
     "data": {
      "text/plain": [
       "Text(0.5,1,'K-value vs Accuracy')"
      ]
     },
     "execution_count": 9,
     "metadata": {},
     "output_type": "execute_result"
    },
    {
     "data": {
      "image/png": "[encoded data removed]",
      "text/plain": [
       "<Figure size 432x288 with 1 Axes>"
      ]
     },
     "metadata": {
      "needs_background": "light"
     },
     "output_type": "display_data"
    }
   ],
   "source": [
    "fig, ax = plt.subplots()\n",
    "x_axis = [i for i in xrange(1,11,1)]\n",
    "ax.plot(x_axis, cosine, label=\"Cosine Accuracy\",marker='o')\n",
    "ax.plot(x_axis, euclid, label=\"Euclid Accuracy\",marker='o')\n",
    "ax.plot(x_axis, manhattan, label=\"Manhattan Accuracy\",marker='o')\n",
    "ax.legend(loc=2)\n",
    "ax.set_xlabel(\"K-value\", fontsize=18)\n",
    "ax.set_ylabel(\"Accuracy\", fontsize=18)\n",
    "ax.set_title('K-value vs Accuracy')"
   ]
  },
  {
   "cell_type": "code",
   "execution_count": 10,
   "metadata": {},
   "outputs": [
    {
     "name": "stdout",
     "output_type": "stream",
     "text": [
      "[[10  0  0]\n",
      " [ 0  9  1]\n",
      " [ 0  0  7]]\n",
      "                 precision    recall  f1-score   support\n",
      "\n",
      "    Iris-setosa       1.00      1.00      1.00        10\n",
      "Iris-versicolor       1.00      0.90      0.95        10\n",
      " Iris-virginica       0.88      1.00      0.93         7\n",
      "\n",
      "      micro avg       0.96      0.96      0.96        27\n",
      "      macro avg       0.96      0.97      0.96        27\n",
      "   weighted avg       0.97      0.96      0.96        27\n",
      "\n",
      "96.29629629629629\n"
     ]
    }
   ],
   "source": [
    "neigh = KNeighborsClassifier()\n",
    "neigh.fit(X_train, Y_train) \n",
    "y_pred = neigh.predict(X_test)\n",
    "print confusion_matrix(Y_test,y_pred)\n",
    "print classification_report(Y_test,y_pred)\n",
    "print accuracy_score(Y_test, y_pred)*100"
   ]
  }
 ],
 "metadata": {
  "kernelspec": {
   "display_name": "Python 2",
   "language": "python",
   "name": "python2"
  },
  "language_info": {
   "codemirror_mode": {
    "name": "ipython",
    "version": 2
   },
   "file_extension": ".py",
   "mimetype": "text/x-python",
   "name": "python",
   "nbconvert_exporter": "python",
   "pygments_lexer": "ipython2",
   "version": "2.7.15rc1"
  }
 },
 "nbformat": 4,
 "nbformat_minor": 2
}
