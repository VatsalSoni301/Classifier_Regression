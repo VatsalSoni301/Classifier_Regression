{
 "cells": [
  {
   "cell_type": "code",
   "execution_count": 1,
   "metadata": {},
   "outputs": [],
   "source": [
    "import numpy as np\n",
    "import pandas as pd\n",
    "from sklearn.model_selection import train_test_split \n",
    "from sklearn.linear_model import LinearRegression\n",
    "from sklearn.metrics import r2_score,mean_absolute_error,mean_squared_error\n",
    "import sys"
   ]
  },
  {
   "cell_type": "code",
   "execution_count": 2,
   "metadata": {},
   "outputs": [],
   "source": [
    "df=pd.read_csv(\"AdmissionDataset/data.csv\")"
   ]
  },
  {
   "cell_type": "code",
   "execution_count": 3,
   "metadata": {},
   "outputs": [],
   "source": [
    "X = df.drop(['Chance of Admit ','Serial No.'],axis=1)\n",
    "Y = df['Chance of Admit ']\n",
    "X_train, X_test, Y_train, Y_test = train_test_split(X,Y,test_size = 0.2)\n",
    "# Y_train"
   ]
  },
  {
   "cell_type": "code",
   "execution_count": 4,
   "metadata": {},
   "outputs": [
    {
     "name": "stdout",
     "output_type": "stream",
     "text": [
      "0.8294259977879623\n"
     ]
    }
   ],
   "source": [
    "lr = LinearRegression()\n",
    "lr.fit(X_train, Y_train) \n",
    "y_pred = lr.predict(X_test)\n",
    "print(r2_score(Y_test,y_pred))"
   ]
  },
  {
   "cell_type": "code",
   "execution_count": 5,
   "metadata": {},
   "outputs": [],
   "source": [
    "X_train = (X_train - X_train.mean())/X_train.std()\n",
    "# Y_train = (Y_train - Y_train.mean())/Y_train.std()\n",
    "X_test = (X_test - X_test.mean())/X_test.std()\n",
    "# Y_test = (Y_test - Y_test.mean())/Y_test.std()\n",
    "# X_train"
   ]
  },
  {
   "cell_type": "code",
   "execution_count": 6,
   "metadata": {},
   "outputs": [],
   "source": [
    "X_train = pd.concat([X_train,Y_train],axis=1)\n",
    "ones = np.ones([X_train.shape[0],1])\n",
    "Y_train = X_train.iloc[:,7:8].values\n",
    "X_train = X_train.iloc[:,0:7]\n",
    "X_train = np.concatenate((ones,X_train),axis=1)"
   ]
  },
  {
   "cell_type": "code",
   "execution_count": 7,
   "metadata": {},
   "outputs": [],
   "source": [
    "learning_rate = 0.01\n",
    "iterations = 1000\n",
    "# theta = np.zeros(8) # 7 is the number of features\n",
    "theta = np.zeros([1,8])\n",
    "# theta.shape"
   ]
  },
  {
   "cell_type": "code",
   "execution_count": 8,
   "metadata": {},
   "outputs": [],
   "source": [
    "def gradient_decent(X_train,Y_train,theta,learning_rate,iterations):\n",
    "    \n",
    "    for i in range(iterations):\n",
    "        theta = theta - (learning_rate/len(X_train)) * np.sum(X_train * (X_train @ theta.T - Y_train), axis=0)\n",
    "    \n",
    "    return theta"
   ]
  },
  {
   "cell_type": "code",
   "execution_count": 9,
   "metadata": {},
   "outputs": [],
   "source": [
    "g = gradient_decent(X_train,Y_train,theta,learning_rate,iterations)\n",
    "g = g[0]"
   ]
  },
  {
   "cell_type": "code",
   "execution_count": 10,
   "metadata": {},
   "outputs": [],
   "source": [
    "y_pred = []\n",
    "for index,rows in X_test.iterrows():\n",
    "    y = 0\n",
    "    rows = list(rows)\n",
    "    for i in range(len(rows)):\n",
    "        y = y + rows[i]*g[i+1]\n",
    "    y = y + g[0]\n",
    "    y_pred.append(y)\n",
    "\n",
    "# Vectorized form\n",
    "# ones = np.ones([X_test.shape[0],1])\n",
    "# X_test = np.concatenate((X_test,ones),axis=1)\n",
    "# y_pred = X_test @ g"
   ]
  },
  {
   "cell_type": "code",
   "execution_count": 11,
   "metadata": {},
   "outputs": [
    {
     "name": "stdout",
     "output_type": "stream",
     "text": [
      "[0.580209372380562, 0.8174663082331977, 0.6380528424135073, 0.6437258208020699, 0.627484968836145, 0.5026333520753599, 0.7314218983249491, 0.6726924592227783, 0.8271644163075924, 0.9301287210535112, 0.4749799043567742, 0.6392495624113357, 0.7780647514632768, 0.60663522252327, 0.7827132475730468, 0.8112060892993826, 0.91321815824792, 0.5197485811987709, 0.8069928303069489, 0.9011051991720072, 0.546822469607684, 0.9383653067582796, 0.8724987866220567, 0.6147448806777315, 0.7776405252909252, 0.9313599405044819, 0.6046134506113371, 0.7476585445408777, 0.8865767206347845, 0.7196498737267768, 0.6010253362106257, 0.5548350639681567, 0.6432698912073904, 0.5950304033452021, 0.6361964230628612, 0.49564158653771473, 0.5565498593096841, 0.6255234989086026, 0.6199440555092041, 0.6598104657607714, 0.6275869119201886, 0.5994555038983269, 0.7895496346131367, 0.5787372340071049, 0.7799072960308695, 0.9721014639654368, 0.5780112838502347, 0.8081922034387534, 0.8414863212417345, 0.8368327677534255, 0.6504637708705961, 0.8777412714812711, 0.7626299575410915, 0.7568275048325958, 0.5068624738950782, 0.597409445352706, 0.6314017296605776, 0.756055619746485, 0.922035081455356, 0.9203624094420111, 0.684070077248336, 0.8770536139112051, 0.6276688621644048, 0.6872307177195923, 0.5608132135923123, 0.8030485396539084, 0.6876741946798007, 0.7821880875448257, 0.7510584154083075, 0.8244256630568948, 0.6468846556344392, 0.7848573679307086, 0.7185424627245877, 0.8719424547053566, 0.5167600808728483, 0.8638671293709996, 0.6778903126006316, 0.7730032496049277, 0.8136725461841253, 0.5625083137111411, 0.5797378090370396, 0.6419009007847944, 0.5317175929951166, 0.6934387166081837, 0.6859885709299737, 0.7223386326289968, 0.8241098021351692, 0.9831743749110917, 0.8312817745966185, 0.7895697775165939]\n"
     ]
    }
   ],
   "source": [
    "print(y_pred)"
   ]
  },
  {
   "cell_type": "code",
   "execution_count": 12,
   "metadata": {},
   "outputs": [],
   "source": [
    "def mean_absolute_percentage_error(y_true, y_pred): \n",
    "    y_true, y_pred = np.array(y_true), np.array(y_pred)\n",
    "    return np.mean(np.abs((y_true - y_pred) / y_true)) * 100"
   ]
  },
  {
   "cell_type": "code",
   "execution_count": 13,
   "metadata": {},
   "outputs": [
    {
     "name": "stdout",
     "output_type": "stream",
     "text": [
      "0.7843658853502914\n",
      "0.04581066521162901\n",
      "0.0035306731965439684\n",
      "6.8091936442692225\n"
     ]
    }
   ],
   "source": [
    "print(r2_score(Y_test,y_pred))\n",
    "print(mean_absolute_error(Y_test,y_pred))\n",
    "print(mean_squared_error(Y_test, y_pred))\n",
    "print(mean_absolute_percentage_error(Y_test, y_pred))"
   ]
  },
  {
   "cell_type": "code",
   "execution_count": 14,
   "metadata": {},
   "outputs": [
    {
     "name": "stdout",
     "output_type": "stream",
     "text": [
      "[0.5152546875262412, 0.7887492615023002, 0.7199257419300292, 0.46054835686781426, 0.8083913399858191, 0.7317471527645103, 0.7796926522960748, 0.7770177046655201, 0.6839571442714988, 0.9361081599798966, 0.6732399637046894, 0.740592642053913, 0.9379435214209059, 0.6973701235411706, 0.9024150123235536, 0.6920352338103427, 0.5185849800265809, 0.6010416040412933, 0.7011590684164157, 0.795147118503308, 0.6513739740111106, 0.9355679031699045, 0.8669437765500304, 0.6558301508054405, 0.7208357701056805, 0.6165968815985754, 0.747746681980834, 0.8454351382483624, 0.9450228991408741, 0.5206066115662595, 0.7167162980911914, 0.6092013227208829, 0.5975155568010483, 0.8243627272369759, 0.8862071856223553, 0.8382641294224873, 0.6024740960791318, 0.5352136071230873, 0.6511555418397684, 0.8343280077746789, 0.7278950270438125, 0.5821845447403249, 0.7263850353130148, 0.8895058187977146, 0.773380912397265, 0.5899626062588005, 0.5623016428513492, 0.4727786130303726, 0.6892203599436881, 0.715576034801677]\n"
     ]
    }
   ],
   "source": [
    "try:\n",
    "    testfilename = \"admission-test.csv\"\n",
    "    #     testfilename = \"data.csv\"\n",
    "    testing = pd.read_csv(testfilename)\n",
    "    testing = testing.drop(['Serial No.','Chance of Admit '],axis=1)\n",
    "    testing = (testing - testing.mean())/testing.std()\n",
    "    y_pred = []\n",
    "    for index,rows in testing.iterrows():\n",
    "        y = 0\n",
    "        rows = list(rows)\n",
    "        for i in range(len(rows)):\n",
    "            y = y + rows[i]*g[i+1]\n",
    "        y = y + g[0]\n",
    "        y_pred.append(y)\n",
    "    print(y_pred)\n",
    "except:\n",
    "    pass"
   ]
  }
 ],
 "metadata": {
  "kernelspec": {
   "display_name": "Python 3",
   "language": "python",
   "name": "python3"
  },
  "language_info": {
   "codemirror_mode": {
    "name": "ipython",
    "version": 3
   },
   "file_extension": ".py",
   "mimetype": "text/x-python",
   "name": "python",
   "nbconvert_exporter": "python",
   "pygments_lexer": "ipython3",
   "version": "3.6.7"
  }
 },
 "nbformat": 4,
 "nbformat_minor": 2
}
