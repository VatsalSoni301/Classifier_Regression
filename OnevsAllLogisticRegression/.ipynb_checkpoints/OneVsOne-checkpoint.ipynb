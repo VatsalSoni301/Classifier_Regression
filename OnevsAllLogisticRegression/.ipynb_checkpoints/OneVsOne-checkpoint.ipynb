{
 "cells": [
  {
   "cell_type": "code",
   "execution_count": 213,
   "metadata": {},
   "outputs": [],
   "source": [
    "import numpy as np\n",
    "import pandas as pd\n",
    "from sklearn.model_selection import train_test_split \n",
    "from sklearn.linear_model import LogisticRegression\n",
    "from sklearn.metrics import r2_score,confusion_matrix,classification_report,accuracy_score\n",
    "from sklearn.preprocessing import StandardScaler"
   ]
  },
  {
   "cell_type": "code",
   "execution_count": 214,
   "metadata": {},
   "outputs": [
    {
     "data": {
      "text/plain": [
       "Index(['fixed acidity', 'volatile acidity', 'citric acid', 'residual sugar',\n",
       "       'chlorides', 'free sulfur dioxide', 'total sulfur dioxide', 'density',\n",
       "       'pH', 'sulphates', 'alcohol', 'quality'],\n",
       "      dtype='object')"
      ]
     },
     "execution_count": 214,
     "metadata": {},
     "output_type": "execute_result"
    }
   ],
   "source": [
    "df=pd.read_csv(\"wine-quality/data.csv\")\n",
    "learning_rate = 0.01\n",
    "iterations = 1000\n",
    "threshold = 0.5\n",
    "columns = df.columns\n",
    "columns"
   ]
  },
  {
   "cell_type": "code",
   "execution_count": 215,
   "metadata": {},
   "outputs": [],
   "source": [
    "X = df.iloc[:,0:12].values\n",
    "# print(X)\n",
    "FX = []\n",
    "a=0\n",
    "for i in X:\n",
    "#     print(i)\n",
    "    if X[a][len(i)-1]==0 or X[a][len(i)-1]==1 or X[a][len(i)-1]==2 or X[a][len(i)-1]==10:\n",
    "        pass\n",
    "    else:    \n",
    "        FX.append(i)\n",
    "    a=a+1\n",
    "# FX\n",
    "df = pd.DataFrame(FX, columns=columns)\n",
    "# df"
   ]
  },
  {
   "cell_type": "code",
   "execution_count": 216,
   "metadata": {},
   "outputs": [],
   "source": [
    "X = df.drop(['quality'],axis=1)\n",
    "Y = df['quality']\n",
    "\n",
    "# print(len(df[df['quality']==3]))"
   ]
  },
  {
   "cell_type": "code",
   "execution_count": 217,
   "metadata": {},
   "outputs": [],
   "source": [
    "X_train, X_test, Y_train, Y_test = train_test_split(X,Y,test_size = 0.2)"
   ]
  },
  {
   "cell_type": "code",
   "execution_count": 218,
   "metadata": {},
   "outputs": [],
   "source": [
    "X_train = (X_train - X_train.mean())/X_train.std()\n",
    "X_test = (X_test - X_test.mean())/X_test.std()"
   ]
  },
  {
   "cell_type": "code",
   "execution_count": 219,
   "metadata": {},
   "outputs": [],
   "source": [
    "X_train = pd.concat([X_train,Y_train],axis=1)\n",
    "ones = np.ones([X_train.shape[0],1])\n",
    "Y_train = X_train.iloc[:,11:12].values\n",
    "X_train = X_train.iloc[:,0:11]\n",
    "X_train = np.concatenate((ones,X_train),axis=1)"
   ]
  },
  {
   "cell_type": "code",
   "execution_count": 220,
   "metadata": {},
   "outputs": [
    {
     "data": {
      "text/plain": [
       "(3526, 1)"
      ]
     },
     "execution_count": 220,
     "metadata": {},
     "output_type": "execute_result"
    }
   ],
   "source": [
    "Y_train.shape"
   ]
  },
  {
   "cell_type": "code",
   "execution_count": 221,
   "metadata": {},
   "outputs": [
    {
     "data": {
      "text/plain": [
       "(21, 12)"
      ]
     },
     "execution_count": 221,
     "metadata": {},
     "output_type": "execute_result"
    }
   ],
   "source": [
    "theta = np.zeros([21,12])\n",
    "theta.shape"
   ]
  },
  {
   "cell_type": "code",
   "execution_count": 222,
   "metadata": {},
   "outputs": [],
   "source": [
    "def sigmoid(z):\n",
    "    return 1 / (1 + np.exp(-z))"
   ]
  },
  {
   "cell_type": "code",
   "execution_count": 223,
   "metadata": {},
   "outputs": [],
   "source": [
    "def gradient_decent(X_train,Y_train,theta1,learning_rate,iterations):\n",
    "    \n",
    "    for i in range(iterations):\n",
    "        h = sigmoid(np.dot(X_train,theta1.T))\n",
    "        theta1 = theta1 - (learning_rate/len(X_train)) * np.sum(X_train * (h - Y_train), axis=0)\n",
    "    \n",
    "    return theta1"
   ]
  },
  {
   "cell_type": "code",
   "execution_count": 224,
   "metadata": {},
   "outputs": [],
   "source": [
    "x=0\n",
    "for i in range(3,9):\n",
    "    for j in range(i+1,10):\n",
    "        theta1 = np.zeros([1,12])\n",
    "        \n",
    "        Xcopy = []\n",
    "        Ycopy = []\n",
    "        W = np.array(Y_train)\n",
    "        \n",
    "        for k in range(len(W)):\n",
    "            if W[k] == j or W[k]==i:\n",
    "                Xcopy.append(X_train[k])\n",
    "                Ycopy.append(Y_train[k])\n",
    "        \n",
    "        Xcopy = np.array(Xcopy)\n",
    "        Ycopy = np.array(Ycopy)\n",
    "#         print(Xcopy.shape)\n",
    "#         print(Ycopy.shape)\n",
    "#         print(x)\n",
    "        theta[x]=gradient_decent(Xcopy,Ycopy,theta1,learning_rate,iterations)\n",
    "        x = x + 1"
   ]
  },
  {
   "cell_type": "code",
   "execution_count": 225,
   "metadata": {},
   "outputs": [],
   "source": [
    "# theta"
   ]
  },
  {
   "cell_type": "code",
   "execution_count": 226,
   "metadata": {},
   "outputs": [],
   "source": [
    "y_pred = []\n",
    "for index,rows in X_test.iterrows():\n",
    "\n",
    "    rows = list(rows)\n",
    "    counts = [0]*7\n",
    "    c = 0\n",
    "    for a in range(3,9):\n",
    "        for b in range(a+1,10):\n",
    "            y = 0\n",
    "            for i in range(len(rows)):\n",
    "                y = y + rows[i]*theta[c][i+1]\n",
    "            y = y + theta[c][0]\n",
    "            y = sigmoid(y)\n",
    "            c = c + 1\n",
    "            if y >= threshold:\n",
    "                counts[b-3] = counts[b-3] + 1\n",
    "            else:\n",
    "                counts[a-3] = counts[a-3] + 1\n",
    "#     print(counts)\n",
    "    y_pred.append(counts.index(max(counts)))\n",
    "# y_pred\n",
    "# counts"
   ]
  },
  {
   "cell_type": "code",
   "execution_count": 227,
   "metadata": {},
   "outputs": [
    {
     "name": "stdout",
     "output_type": "stream",
     "text": [
      "24.489795918367346\n",
      "[[  0   0   0   0   0   0   0   0   0]\n",
      " [  0   0   0   0   0   0   0   0   0]\n",
      " [  0   0   0   0   1   0   0   0   0]\n",
      " [  0   1   3   6   7   9   0   0   0]\n",
      " [ 10  25  16  96  68  59   0   0   0]\n",
      " [ 12  24   7  61 148 142   0   0   0]\n",
      " [  2   5   0  19  69  60   0   0   0]\n",
      " [  0   4   0   3  14   9   0   0   0]\n",
      " [  0   0   0   0   0   2   0   0   0]]\n",
      "24.489795918367346\n"
     ]
    }
   ],
   "source": [
    "print((y_pred == Y_test).mean()*100)\n",
    "print(confusion_matrix(Y_test,y_pred))\n",
    "# print(classification_report(Y_test,y_pred))\n",
    "print(accuracy_score(Y_test, y_pred)*100)"
   ]
  }
 ],
 "metadata": {
  "kernelspec": {
   "display_name": "Python 3",
   "language": "python",
   "name": "python3"
  },
  "language_info": {
   "codemirror_mode": {
    "name": "ipython",
    "version": 3
   },
   "file_extension": ".py",
   "mimetype": "text/x-python",
   "name": "python",
   "nbconvert_exporter": "python",
   "pygments_lexer": "ipython3",
   "version": "3.6.7"
  }
 },
 "nbformat": 4,
 "nbformat_minor": 2
}
