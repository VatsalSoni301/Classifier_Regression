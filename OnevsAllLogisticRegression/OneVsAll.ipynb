{
 "cells": [
  {
   "cell_type": "code",
   "execution_count": 136,
   "metadata": {},
   "outputs": [],
   "source": [
    "import numpy as np\n",
    "import pandas as pd\n",
    "from sklearn.model_selection import train_test_split \n",
    "from sklearn.linear_model import LogisticRegression\n",
    "from sklearn.metrics import r2_score,confusion_matrix,classification_report,accuracy_score\n",
    "from sklearn.preprocessing import StandardScaler"
   ]
  },
  {
   "cell_type": "code",
   "execution_count": 137,
   "metadata": {},
   "outputs": [
    {
     "data": {
      "text/plain": [
       "Index(['fixed acidity', 'volatile acidity', 'citric acid', 'residual sugar',\n",
       "       'chlorides', 'free sulfur dioxide', 'total sulfur dioxide', 'density',\n",
       "       'pH', 'sulphates', 'alcohol', 'quality'],\n",
       "      dtype='object')"
      ]
     },
     "execution_count": 137,
     "metadata": {},
     "output_type": "execute_result"
    }
   ],
   "source": [
    "df=pd.read_csv(\"wine-quality/data.csv\")\n",
    "learning_rate = 0.01\n",
    "iterations = 1000\n",
    "# df\n",
    "columns = df.columns\n",
    "columns"
   ]
  },
  {
   "cell_type": "code",
   "execution_count": 138,
   "metadata": {},
   "outputs": [],
   "source": [
    "# X = df.iloc[:,0:12].values\n",
    "# # print(X)\n",
    "# FX = []\n",
    "# a=0\n",
    "# for i in X:\n",
    "# #     print(i)\n",
    "#     if X[a][len(i)-1]==4 or X[a][len(i)-1]==5 or X[a][len(i)-1]==6 or X[a][len(i)-1]==7 or X[a][len(i)-1]==8:\n",
    "#         FX.append(i)\n",
    "#     a=a+1\n",
    "# # FX\n",
    "# df = pd.DataFrame(FX, columns=columns)\n",
    "# # df"
   ]
  },
  {
   "cell_type": "code",
   "execution_count": 139,
   "metadata": {},
   "outputs": [],
   "source": [
    "X = df.drop(['quality'],axis=1)\n",
    "Y = df['quality']\n",
    "\n",
    "# print(len(df[df['quality']==9]))"
   ]
  },
  {
   "cell_type": "code",
   "execution_count": 140,
   "metadata": {},
   "outputs": [],
   "source": [
    "X_train, X_test, Y_train, Y_test = train_test_split(X,Y,test_size = 0.2)"
   ]
  },
  {
   "cell_type": "code",
   "execution_count": 141,
   "metadata": {},
   "outputs": [],
   "source": [
    "X_train = (X_train - X_train.mean())/X_train.std()\n",
    "X_test = (X_test - X_test.mean())/X_test.std()"
   ]
  },
  {
   "cell_type": "code",
   "execution_count": 142,
   "metadata": {},
   "outputs": [
    {
     "name": "stdout",
     "output_type": "stream",
     "text": [
      "0.5544217687074829\n",
      "0.5544217687074829\n",
      "[[  0   0   1   3   0   0]\n",
      " [  0   4  15  11   0   0]\n",
      " [  0   1 145 109   1   0]\n",
      " [  0   0  81 315  19   0]\n",
      " [  0   0   6 119  25   0]\n",
      " [  0   0   0  14  13   0]]\n",
      "55.44217687074829\n"
     ]
    }
   ],
   "source": [
    "lr = LogisticRegression(solver='lbfgs',multi_class='multinomial',max_iter=iterations)\n",
    "lr.fit(X_train, Y_train) \n",
    "y_pred = lr.predict(X_test)\n",
    "score = lr.score(X_test,Y_test)\n",
    "print(score)\n",
    "print((Y_test == y_pred).mean())\n",
    "print(confusion_matrix(Y_test,y_pred))\n",
    "# print(classification_report(Y_test,y_pred))\n",
    "print(accuracy_score(Y_test, y_pred)*100)"
   ]
  },
  {
   "cell_type": "code",
   "execution_count": 143,
   "metadata": {},
   "outputs": [],
   "source": [
    "X_train = pd.concat([X_train,Y_train],axis=1)\n",
    "ones = np.ones([X_train.shape[0],1])\n",
    "Y_train = X_train.iloc[:,11:12].values\n",
    "X_train = X_train.iloc[:,0:11]\n",
    "X_train = np.concatenate((ones,X_train),axis=1)"
   ]
  },
  {
   "cell_type": "code",
   "execution_count": 144,
   "metadata": {},
   "outputs": [
    {
     "data": {
      "text/plain": [
       "(3526, 1)"
      ]
     },
     "execution_count": 144,
     "metadata": {},
     "output_type": "execute_result"
    }
   ],
   "source": [
    "Y_train.shape"
   ]
  },
  {
   "cell_type": "code",
   "execution_count": 145,
   "metadata": {},
   "outputs": [
    {
     "data": {
      "text/plain": [
       "(11, 12)"
      ]
     },
     "execution_count": 145,
     "metadata": {},
     "output_type": "execute_result"
    }
   ],
   "source": [
    "theta = np.zeros([11,12])\n",
    "theta.shape"
   ]
  },
  {
   "cell_type": "code",
   "execution_count": 146,
   "metadata": {},
   "outputs": [],
   "source": [
    "def sigmoid(z):\n",
    "    return 1 / (1 + np.exp(-z))"
   ]
  },
  {
   "cell_type": "code",
   "execution_count": 147,
   "metadata": {},
   "outputs": [],
   "source": [
    "def gradient_decent(X_train,Y_train,theta1,learning_rate,iterations):\n",
    "    \n",
    "    for i in range(iterations):\n",
    "        h = sigmoid(np.dot(X_train,theta1.T))\n",
    "        theta1 = theta1 - (learning_rate/len(X_train)) * np.sum(X_train * (h - Y_train), axis=0)\n",
    "    \n",
    "    return theta1"
   ]
  },
  {
   "cell_type": "code",
   "execution_count": 148,
   "metadata": {},
   "outputs": [],
   "source": [
    "for i in range(0,11):\n",
    "    theta1 = np.zeros([1,12])\n",
    "    W = np.array(Y_train)\n",
    "    for j in range(len(W)):\n",
    "        if W[j] == i:\n",
    "            W[j] = 1\n",
    "        else:\n",
    "            W[j] = 0\n",
    "    \n",
    "    theta[i]=gradient_decent(X_train,W,theta1,learning_rate,iterations)"
   ]
  },
  {
   "cell_type": "code",
   "execution_count": 149,
   "metadata": {},
   "outputs": [],
   "source": [
    "# theta"
   ]
  },
  {
   "cell_type": "code",
   "execution_count": 150,
   "metadata": {},
   "outputs": [],
   "source": [
    "y_pred = []\n",
    "for index,rows in X_test.iterrows():\n",
    "\n",
    "    rows = list(rows)\n",
    "    max_h=0\n",
    "    for a in range(0,11):\n",
    "        y = 0\n",
    "        for i in range(len(rows)):\n",
    "            y = y + rows[i]*theta[a][i+1]\n",
    "        y = y + theta[a][0]\n",
    "        y = sigmoid(y)\n",
    "        if y >= max_h:\n",
    "            label = a\n",
    "            max_h = y\n",
    "    y_pred.append(label)\n",
    "# y_pred"
   ]
  },
  {
   "cell_type": "code",
   "execution_count": 151,
   "metadata": {},
   "outputs": [
    {
     "name": "stdout",
     "output_type": "stream",
     "text": [
      "53.28798185941043\n",
      "[[  0   0   0   4   0   0]\n",
      " [  0   0  18  12   0   0]\n",
      " [  0   0 144 112   0   0]\n",
      " [  0   0  90 319   6   0]\n",
      " [  0   0   7 136   7   0]\n",
      " [  0   0   0  26   1   0]]\n",
      "53.28798185941043\n"
     ]
    }
   ],
   "source": [
    "print((y_pred == Y_test).mean()*100)\n",
    "print(confusion_matrix(Y_test,y_pred))\n",
    "# print(classification_report(Y_test,y_pred))\n",
    "print(accuracy_score(Y_test, y_pred)*100)"
   ]
  }
 ],
 "metadata": {
  "kernelspec": {
   "display_name": "Python 3",
   "language": "python",
   "name": "python3"
  },
  "language_info": {
   "codemirror_mode": {
    "name": "ipython",
    "version": 3
   },
   "file_extension": ".py",
   "mimetype": "text/x-python",
   "name": "python",
   "nbconvert_exporter": "python",
   "pygments_lexer": "ipython3",
   "version": "3.6.7"
  }
 },
 "nbformat": 4,
 "nbformat_minor": 2
}
