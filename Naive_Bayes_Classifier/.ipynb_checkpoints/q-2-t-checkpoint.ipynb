{
 "cells": [
  {
   "cell_type": "code",
   "execution_count": 810,
   "metadata": {},
   "outputs": [],
   "source": [
    "import numpy as np\n",
    "import pandas as pd\n",
    "from sklearn.model_selection import train_test_split \n",
    "from sklearn.metrics import classification_report,confusion_matrix,accuracy_score\n",
    "from sklearn.naive_bayes import GaussianNB\n",
    "import math\n",
    "import copy"
   ]
  },
  {
   "cell_type": "code",
   "execution_count": 811,
   "metadata": {},
   "outputs": [],
   "source": [
    "df=pd.read_csv(\"LoanDataset/data.csv\")\n",
    "df.columns = ['id','age','exp','income','zip','family','spend','education','house','output','security','certi','net','creditcard']"
   ]
  },
  {
   "cell_type": "code",
   "execution_count": 812,
   "metadata": {},
   "outputs": [],
   "source": [
    "X = df.drop(['output'],axis=1)\n",
    "Y = df['output']"
   ]
  },
  {
   "cell_type": "code",
   "execution_count": 813,
   "metadata": {},
   "outputs": [],
   "source": [
    "X_train, X_test, Y_train, Y_test = train_test_split(X,Y,test_size = 0.2)"
   ]
  },
  {
   "cell_type": "code",
   "execution_count": 814,
   "metadata": {},
   "outputs": [],
   "source": [
    "df = pd.concat([X_train,Y_train],axis=1)"
   ]
  },
  {
   "cell_type": "code",
   "execution_count": 815,
   "metadata": {},
   "outputs": [],
   "source": [
    "distinct = {}\n",
    "def seperateClass():\n",
    "    for index,row in df.iterrows():\n",
    "\n",
    "        if row['output'] not in distinct:\n",
    "            distinct[row['output']]=[]\n",
    "        distinct[row['output']].append(list(row))\n",
    "        "
   ]
  },
  {
   "cell_type": "code",
   "execution_count": 816,
   "metadata": {},
   "outputs": [],
   "source": [
    "def mean(attrColumn):\n",
    "    return float(sum(attrColumn))/len(attrColumn)"
   ]
  },
  {
   "cell_type": "code",
   "execution_count": 817,
   "metadata": {},
   "outputs": [],
   "source": [
    "def standard_deviation(attrColumn):\n",
    "    avg = mean(attrColumn)\n",
    "    ans = 0\n",
    "    for i in attrColumn:\n",
    "        ans=ans+pow(i-avg,2)\n",
    "    ans = float(ans)/(len(attrColumn)-1)\n",
    "    return np.sqrt(ans)"
   ]
  },
  {
   "cell_type": "code",
   "execution_count": 818,
   "metadata": {},
   "outputs": [],
   "source": [
    "def find_mean_sd_for_attr(df):\n",
    "\n",
    "    summaries = {}\n",
    "    df = pd.DataFrame(df)\n",
    "    df.columns = ['id','age','exp','income','zip','family','spend','education','house','security','certi','net','creditcard','output']\n",
    "    for i in df.columns:\n",
    "        summaries[i]=(mean(df[i]),standard_deviation(df[i]))\n",
    "    del summaries['output']\n",
    "    return summaries"
   ]
  },
  {
   "cell_type": "code",
   "execution_count": 819,
   "metadata": {},
   "outputs": [],
   "source": [
    "seperateClass()\n",
    "# print distinct\n",
    "summary = {}\n",
    "for label,data in distinct.iteritems():\n",
    "    summary[label] = find_mean_sd_for_attr(data)\n",
    "    \n",
    "# print summary"
   ]
  },
  {
   "cell_type": "code",
   "execution_count": 820,
   "metadata": {},
   "outputs": [],
   "source": [
    "def calcProbability(x,mean,sd):\n",
    "    exponent = math.exp(-(math.pow(x-mean,2)/(2*math.pow(sd,2))))\n",
    "    return (1 / (math.sqrt(2*math.pi) * sd)) * exponent"
   ]
  },
  {
   "cell_type": "code",
   "execution_count": 821,
   "metadata": {},
   "outputs": [],
   "source": [
    "def probability_by_class(inputdata,summary):\n",
    "\n",
    "    probabilities = {}\n",
    "    for label, labeldata in summary.iteritems():\n",
    "#         print labeldata\n",
    "        probabilities[label] = 1\n",
    "        for key,value in labeldata.iteritems():\n",
    "#             print value\n",
    "            mean,sd = value\n",
    "            inputattrdata = inputdata[key]\n",
    "            probabilities[label] *= calcProbability(inputattrdata, mean, sd)\n",
    "    return probabilities"
   ]
  },
  {
   "cell_type": "code",
   "execution_count": 822,
   "metadata": {},
   "outputs": [],
   "source": [
    "def prediction(inputdata,summary):\n",
    "    probabilities = probability_by_class(inputdata,summary)\n",
    "    anslabel = \"\"\n",
    "    maxprob = 0\n",
    "    for label, probability in probabilities.iteritems():\n",
    "        if anslabel==\"\" or probability >= maxprob:\n",
    "            maxprob = probability\n",
    "            anslabel = label\n",
    "#     print anslabel\n",
    "    return anslabel"
   ]
  },
  {
   "cell_type": "code",
   "execution_count": 823,
   "metadata": {},
   "outputs": [
    {
     "name": "stdout",
     "output_type": "stream",
     "text": [
      "[[728  81]\n",
      " [ 20  71]]\n",
      "              precision    recall  f1-score   support\n",
      "\n",
      "           0       0.97      0.90      0.94       809\n",
      "           1       0.47      0.78      0.58        91\n",
      "\n",
      "   micro avg       0.89      0.89      0.89       900\n",
      "   macro avg       0.72      0.84      0.76       900\n",
      "weighted avg       0.92      0.89      0.90       900\n",
      "\n",
      "88.77777777777777\n"
     ]
    }
   ],
   "source": [
    "res = []\n",
    "\n",
    "for index,row in X_test.iterrows():\n",
    "    res.append(prediction(row,summary))\n",
    "\n",
    "print confusion_matrix(Y_test,res)\n",
    "print classification_report(Y_test,res)\n",
    "print accuracy_score(Y_test, res)*100"
   ]
  },
  {
   "cell_type": "code",
   "execution_count": 824,
   "metadata": {},
   "outputs": [
    {
     "name": "stdout",
     "output_type": "stream",
     "text": [
      "[[752  57]\n",
      " [ 39  52]]\n",
      "              precision    recall  f1-score   support\n",
      "\n",
      "           0       0.95      0.93      0.94       809\n",
      "           1       0.48      0.57      0.52        91\n",
      "\n",
      "   micro avg       0.89      0.89      0.89       900\n",
      "   macro avg       0.71      0.75      0.73       900\n",
      "weighted avg       0.90      0.89      0.90       900\n",
      "\n",
      "89.33333333333333\n"
     ]
    }
   ],
   "source": [
    "gnb = GaussianNB()\n",
    "gnb.fit(X_train, Y_train)\n",
    "y_pred = gnb.predict(X_test)\n",
    "print confusion_matrix(Y_test,y_pred)\n",
    "print classification_report(Y_test,y_pred)\n",
    "print accuracy_score(Y_test, y_pred)*100"
   ]
  }
 ],
 "metadata": {
  "kernelspec": {
   "display_name": "Python 2",
   "language": "python",
   "name": "python2"
  },
  "language_info": {
   "codemirror_mode": {
    "name": "ipython",
    "version": 2
   },
   "file_extension": ".py",
   "mimetype": "text/x-python",
   "name": "python",
   "nbconvert_exporter": "python",
   "pygments_lexer": "ipython2",
   "version": "2.7.15rc1"
  }
 },
 "nbformat": 4,
 "nbformat_minor": 2
}
