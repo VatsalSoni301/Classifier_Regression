{
 "cells": [
  {
   "cell_type": "code",
   "execution_count": 84,
   "metadata": {},
   "outputs": [],
   "source": [
    "import numpy as np\n",
    "import pandas as pd\n",
    "from sklearn.model_selection import train_test_split \n",
    "from sklearn.metrics import classification_report,confusion_matrix,accuracy_score\n",
    "from sklearn.naive_bayes import GaussianNB\n",
    "import math\n",
    "import copy"
   ]
  },
  {
   "cell_type": "code",
   "execution_count": 85,
   "metadata": {},
   "outputs": [],
   "source": [
    "df=pd.read_csv(\"LoanDataset/data.csv\")\n",
    "df.columns = ['id','age','exp','income','zip','family','spend','education','house','output','security','certi','net','creditcard']"
   ]
  },
  {
   "cell_type": "code",
   "execution_count": 86,
   "metadata": {},
   "outputs": [],
   "source": [
    "X = df.drop(['output'],axis=1)\n",
    "Y = df['output']"
   ]
  },
  {
   "cell_type": "code",
   "execution_count": 87,
   "metadata": {},
   "outputs": [],
   "source": [
    "X_train, X_test, Y_train, Y_test = train_test_split(X,Y,test_size = 0.2)"
   ]
  },
  {
   "cell_type": "code",
   "execution_count": 88,
   "metadata": {},
   "outputs": [],
   "source": [
    "df = pd.concat([X_train,Y_train],axis=1)"
   ]
  },
  {
   "cell_type": "code",
   "execution_count": 89,
   "metadata": {},
   "outputs": [],
   "source": [
    "distinct = {}\n",
    "def seperateClass():\n",
    "    for index,row in df.iterrows():\n",
    "\n",
    "        if row['output'] not in distinct:\n",
    "            distinct[row['output']]=[]\n",
    "        distinct[row['output']].append(list(row))"
   ]
  },
  {
   "cell_type": "code",
   "execution_count": 90,
   "metadata": {},
   "outputs": [],
   "source": [
    "def mean(attrColumn):\n",
    "    return float(sum(attrColumn))/len(attrColumn)"
   ]
  },
  {
   "cell_type": "code",
   "execution_count": 91,
   "metadata": {},
   "outputs": [],
   "source": [
    "def standard_deviation(attrColumn):\n",
    "    avg = mean(attrColumn)\n",
    "    ans = 0\n",
    "    for i in attrColumn:\n",
    "        ans=ans+pow(i-avg,2)\n",
    "    ans = float(ans)/(len(attrColumn)-1)\n",
    "    return np.sqrt(ans)"
   ]
  },
  {
   "cell_type": "code",
   "execution_count": 92,
   "metadata": {},
   "outputs": [],
   "source": [
    "def find_mean_sd_for_attr(df):\n",
    "\n",
    "    summaries = {}\n",
    "    df = pd.DataFrame(df)\n",
    "    df.columns = ['id','age','exp','income','zip','family','spend','education','house','security','certi','net','creditcard','output']\n",
    "    for i in df.columns:\n",
    "        summaries[i]=(mean(df[i]),standard_deviation(df[i]))\n",
    "    del summaries['output']\n",
    "    return summaries"
   ]
  },
  {
   "cell_type": "code",
   "execution_count": 93,
   "metadata": {},
   "outputs": [],
   "source": [
    "seperateClass()\n",
    "# print distinct\n",
    "summary = {}\n",
    "for label,data in distinct.items():\n",
    "    summary[label] = find_mean_sd_for_attr(data)\n",
    "    \n",
    "# print summary"
   ]
  },
  {
   "cell_type": "code",
   "execution_count": 94,
   "metadata": {},
   "outputs": [],
   "source": [
    "def calcProbability(x,mean,sd):\n",
    "    exponent = math.exp(-(math.pow(x-mean,2)/(2*math.pow(sd,2))))\n",
    "    return (1 / (math.sqrt(2*math.pi) * sd)) * exponent"
   ]
  },
  {
   "cell_type": "code",
   "execution_count": 95,
   "metadata": {},
   "outputs": [],
   "source": [
    "def probability_by_class(inputdata,summary):\n",
    "\n",
    "    probabilities = {}\n",
    "    for label, labeldata in summary.items():\n",
    "#         print labeldata\n",
    "        probabilities[label] = 1\n",
    "        for key,value in labeldata.items():\n",
    "#             print value\n",
    "            mean,sd = value\n",
    "            inputattrdata = inputdata[key]\n",
    "            probabilities[label] *= calcProbability(inputattrdata, mean, sd)\n",
    "    return probabilities"
   ]
  },
  {
   "cell_type": "code",
   "execution_count": 96,
   "metadata": {},
   "outputs": [],
   "source": [
    "def prediction(inputdata,summary):\n",
    "    probabilities = probability_by_class(inputdata,summary)\n",
    "    anslabel = \"\"\n",
    "    maxprob = 0\n",
    "    for label, probability in probabilities.items():\n",
    "        if anslabel==\"\" or probability >= maxprob:\n",
    "            maxprob = probability\n",
    "            anslabel = label\n",
    "#     print anslabel\n",
    "    return anslabel"
   ]
  },
  {
   "cell_type": "code",
   "execution_count": 97,
   "metadata": {},
   "outputs": [
    {
     "name": "stdout",
     "output_type": "stream",
     "text": [
      "[[705 107]\n",
      " [ 16  72]]\n",
      "              precision    recall  f1-score   support\n",
      "\n",
      "           0       0.98      0.87      0.92       812\n",
      "           1       0.40      0.82      0.54        88\n",
      "\n",
      "   micro avg       0.86      0.86      0.86       900\n",
      "   macro avg       0.69      0.84      0.73       900\n",
      "weighted avg       0.92      0.86      0.88       900\n",
      "\n",
      "86.33333333333333\n"
     ]
    }
   ],
   "source": [
    "res = []\n",
    "\n",
    "for index,row in X_test.iterrows():\n",
    "    res.append(prediction(row,summary))\n",
    "\n",
    "print(confusion_matrix(Y_test,res))\n",
    "print(classification_report(Y_test,res))\n",
    "print(accuracy_score(Y_test, res)*100)"
   ]
  },
  {
   "cell_type": "code",
   "execution_count": 98,
   "metadata": {},
   "outputs": [
    {
     "name": "stdout",
     "output_type": "stream",
     "text": [
      "[[731  81]\n",
      " [ 33  55]]\n",
      "              precision    recall  f1-score   support\n",
      "\n",
      "           0       0.96      0.90      0.93       812\n",
      "           1       0.40      0.62      0.49        88\n",
      "\n",
      "   micro avg       0.87      0.87      0.87       900\n",
      "   macro avg       0.68      0.76      0.71       900\n",
      "weighted avg       0.90      0.87      0.88       900\n",
      "\n",
      "87.33333333333333\n"
     ]
    }
   ],
   "source": [
    "gnb = GaussianNB()\n",
    "gnb.fit(X_train, Y_train)\n",
    "y_pred = gnb.predict(X_test)\n",
    "print(confusion_matrix(Y_test,y_pred))\n",
    "print(classification_report(Y_test,y_pred))\n",
    "print(accuracy_score(Y_test, y_pred)*100)"
   ]
  }
 ],
 "metadata": {
  "kernelspec": {
   "display_name": "Python 3",
   "language": "python",
   "name": "python3"
  },
  "language_info": {
   "codemirror_mode": {
    "name": "ipython",
    "version": 3
   },
   "file_extension": ".py",
   "mimetype": "text/x-python",
   "name": "python",
   "nbconvert_exporter": "python",
   "pygments_lexer": "ipython3",
   "version": "3.6.7"
  }
 },
 "nbformat": 4,
 "nbformat_minor": 2
}
